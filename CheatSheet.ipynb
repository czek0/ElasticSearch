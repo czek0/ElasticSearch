{
 "cells": [
  {
   "cell_type": "code",
   "execution_count": null,
   "metadata": {},
   "outputs": [],
   "source": []
  },
  {
   "cell_type": "markdown",
   "metadata": {},
   "source": [
    "# Getting Started \n",
    "Installing Elasticsearch\n",
    "Elasticsearch can be downloaded as a ZIP, TAR, DEB, or RPM package. If you are on Ubuntu, Red Hat, or CentOS Linux, it can be directly installed using apt or yum.\n",
    "We will use the ZIP format as it is the least intrusive and the easiest for development purposes.\n",
    "1. Go to https:/​/​www.​elastic.​co/​downloads/​elasticsearch and download the ZIP distribution. You can also download an older version if you are looking for an exact version.\n",
    "2. Extract the file and change your directory to the top level extracted folder. Run bin/elasticsearch or bin/elasticsearch.bat.\n",
    "3. Run curl http://localhost:9200 or open the URL in your favorite browser."
   ]
  },
  {
   "cell_type": "code",
   "execution_count": null,
   "metadata": {},
   "outputs": [],
   "source": []
  }
 ],
 "metadata": {
  "language_info": {
   "name": "python"
  }
 },
 "nbformat": 4,
 "nbformat_minor": 2
}
