{
 "cells": [
  {
   "cell_type": "markdown",
   "metadata": {},
   "source": [
    "# Cheat Sheet \n",
    "Installing Elasticsearch via docker\n",
    "https://www.elastic.co/guide/en/elasticsearch/reference/current/docker.html"
   ]
  },
  {
   "cell_type": "markdown",
   "metadata": {},
   "source": [
    "### Smooth Operations \n",
    "**Starting the Container**\n",
    "IN DOCKER\n",
    "\n",
    "**Checking that it is running**\n",
    "docker ps\n",
    "**Check logs**\n",
    "docker logs 592433093f99\n",
    "**Check if container is listening on host**\n",
    "netstat -tuln | grep 9200\n",
    "**Try Accessing from in Container**\n",
    "docker exec -it 592433093f99 curl http://localhost:9200\n",
    "\n",
    "**Create an Idex**\n",
    "curl -X PUT -k -u elastic:kJDEcXlECua3RAvh4pDn https://localhost:9200/products\n",
    "If this command is successful you will get:\n",
    "{\n",
    "  \"acknowledged\": true,\n",
    "  \"shards_acknowledged\": true,\n",
    "  \"index\": \"products\"\n",
    "}\n",
    "\n"
   ]
  },
  {
   "cell_type": "markdown",
   "metadata": {},
   "source": [
    "### Helpful commands\n",
    "\n",
    "**To check the health of your cluster:**\n",
    "Copycurl -k -u elastic:kJDEcXlECua3RAvh4pDn https://localhost:9200/_cat/health\n",
    "\n",
    "**To list all indices:**\n",
    "Copycurl -k -u elastic:kJDEcXlECua3RAvh4pDn https://localhost:9200/_cat/indices\n",
    "\n",
    "**To get information about your cluster:**\n",
    "Copycurl -k -u elastic:kJDEcXlECua3RAvh4pDn https://localhost:9200"
   ]
  },
  {
   "cell_type": "markdown",
   "metadata": {},
   "source": [
    "### Password\n",
    "**Can't find password**\n",
    "docker exec -it 592433093f99 /usr/share/elasticsearch/bin/elasticsearch-reset-password -u elastic\n",
    "\n",
    "\n",
    "\n",
    "**Saving your new Password**\n",
    "export ES_PASSWORD=<new password>\n",
    "echo 'export ES_PASSWORD=<new password>' >> ~/.bashrc \n",
    "source ~/.bashrc\n"
   ]
  },
  {
   "cell_type": "markdown",
   "metadata": {},
   "source": [
    "# Elasticsearch Basic Operations\n",
    "\n",
    "## 1. Create an Index\n",
    "curl -X PUT -k -u elastic:$ES_PASSWORD https://localhost:9200/products\n",
    "\n",
    "## 2. Add a index\n",
    "curl -X POST -k -u elastic:$ES_PASSWORD https://localhost:9200/products/_doc -H \"Content-Type: application/json\" -d '\n",
    "{\n",
    "  \"name\": \"Example Product\",\n",
    "  \"price\": 29.99,\n",
    "  \"in_stock\": true\n",
    "}'\n",
    "## 3. Retrieve a document by ID\n",
    "curl -k -u elastic:$ES_PASSWORD https://localhost:9200/products/_doc/<document_id>\n",
    "\n",
    "## 4. Search For Documents\n",
    "curl -X GET -k -u elastic:$ES_PASSWORD https://localhost:9200/products/_search -H \"Content-Type: application/json\" -d '\n",
    "{\n",
    "  \"query\": {\n",
    "    \"match_all\": {}\n",
    "  }\n",
    "}'\n",
    "\n",
    "## 5. Add a document with a specific ID\n",
    "curl -X PUT -k -u elastic:$ES_PASSWORD https://localhost:9200/products/_doc/1 -H \"Content-Type: application/json\" -d '\n",
    "{\n",
    "  \"name\": \"Another Product\",\n",
    "  \"price\": 39.99,\n",
    "  \"in_stock\": true\n",
    "}'\n",
    "\n",
    "## 6. Update\n",
    "curl -X POST -k -u elastic:$ES_PASSWORD https://localhost:9200/products/_update/<document_id> -H \"Content-Type: application/json\" -d '\n",
    "{\n",
    "  \"doc\": {\n",
    "    \"in_stock\": false\n",
    "  }\n",
    "}'"
   ]
  }
 ],
 "metadata": {
  "language_info": {
   "name": "python"
  }
 },
 "nbformat": 4,
 "nbformat_minor": 2
}
